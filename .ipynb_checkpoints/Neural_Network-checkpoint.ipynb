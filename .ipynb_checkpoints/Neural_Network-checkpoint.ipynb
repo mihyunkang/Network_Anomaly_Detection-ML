{
 "cells": [
  {
   "cell_type": "code",
   "execution_count": null,
   "metadata": {},
   "outputs": [],
   "source": [
    "import csv\n",
    "import numpy as np\n",
    "\n",
    "with open('./Network dataset/Friday-WorkingHours-Afternoon-DDos.pcap_ISCX.csv', newline='') as f:\n",
    "    reader = csv.reader(f)\n",
    "    data = list(reader)\n",
    "print(len(data[0]))\n",
    "print(data[0][1])"
   ]
  },
  {
   "cell_type": "code",
   "execution_count": null,
   "metadata": {},
   "outputs": [],
   "source": [
    "import pandas as pd\n",
    "import matplotlib.pyplot as plt\n",
    "\n",
    "from sklearn.model_selection import train_test_split"
   ]
  },
  {
   "cell_type": "code",
   "execution_count": 5,
   "metadata": {},
   "outputs": [],
   "source": [
    "from torch.utils.data import Dataset, DataLoader\n",
    "from sklearn.model_selection import train_test_split\n",
    "import random\n",
    "import torch\n",
    "\n",
    "class TrainDataset(Dataset): \n",
    "    \n",
    "    def __init__(self):\n",
    "        with open('./Network dataset/Friday-WorkingHours-Afternoon-DDos.pcap_ISCX.csv', newline='') as f:\n",
    "            reader = csv.reader(f)\n",
    "            data = list(reader)\n",
    "        col1 = 4\n",
    "        col2 = 7\n",
    "        #col3 = 8\n",
    "        #col4 = 9\n",
    "        #col5 = 10\n",
    "        #col6 = 83\n",
    "        target_list = [ 0 if data[i] == 'BENIGN' else 1 for i in range(len(data))]\n",
    "        target_arr = np.array(target_list[1000:-1000])\n",
    "        data_arr = np.array(data[1000:-1000])\n",
    "        attribute = np.array(data[0]) \n",
    "        #Benign 0, DDos 1\n",
    "        self.len = len(target_arr) \n",
    "        self.X = torch.tensor(np.array(data_dict['data'][:,[col1,col2]]).astype(np.float32)) # 시각화를 위해 속성 2개만 선정\n",
    "        self.y = torch.tensor(data_dict['target'], dtype=torch.float32) \n",
    "    \n",
    "    def __getitem__(self, index): \n",
    "        \n",
    "        return self.X[index], self.y[index] \n",
    "    \n",
    "    def __len__(self): \n",
    "        \n",
    "        return self.len\n",
    "    \n",
    "class TestDataset(Dataset): \n",
    "    \n",
    "    def __init__(self):\n",
    "        with open('./Network dataset/Friday-WorkingHours-Afternoon-DDos.pcap_ISCX.csv', newline='') as f:\n",
    "            reader = csv.reader(f)\n",
    "            data = list(reader)\n",
    "        col1 = 4\n",
    "        col2 = 7\n",
    "        target_list = [ 0 if data[i] == 'BENIGN' else 1 for i in range(len(data))]\n",
    "        target_arr = np.array(target_list[1:1000] + target_list[-1000:])\n",
    "        data_arr = np.array(data[1:1000] + data[-1000:])\n",
    "        attribute = np.array(data[0]) \n",
    "        #Benign 0, DDos 1\n",
    "        self.len = len(target_arr) \n",
    "        self.X = torch.tensor(np.array(data_dict['data'][:,[col1,col2]]).astype(np.float32)) # 시각화를 위해 속성 2개만 선정\n",
    "        self.y = torch.tensor(data_dict['target'], dtype=torch.float32) \n",
    "    \n",
    "    def __getitem__(self, index): \n",
    "        \n",
    "        return self.X[index], self.y[index] \n",
    "    \n",
    "    def __len__(self): \n",
    "        \n",
    "        return self.len\n",
    "\n",
    "trainset = TrainDataset()\n",
    "testset = TestDataset()\n",
    "\n",
    "\n",
    "trainloader = DataLoader(trainset, batch_size=4, shuffle=True, num_workers=2)\n",
    "testloader = DataLoader(testset, batch_size=4, shuffle=False, num_workers=2)\n",
    "\n",
    "classes = ('Benign', 'DDos')"
   ]
  },
  {
   "cell_type": "code",
   "execution_count": 6,
   "metadata": {},
   "outputs": [],
   "source": [
    "import torch.nn as nn\n",
    "import torch.nn.functional as F\n",
    "\n",
    "\n",
    "class Net(nn.Module):\n",
    "    \n",
    "    def __init__(self):\n",
    "        super(Net, self).__init__()\n",
    "        self.fc1 = nn.Linear(2, 120)\n",
    "        self.fc2 = nn.Linear(120, 84)\n",
    "        self.fc3 = nn.Linear(84, 1)\n",
    "        self.dropout = torch.nn.Dropout(p=drop_prob)\n",
    "        \n",
    "    def forward(self, x):\n",
    "        x = self.dropout(F.relu(self.fc1(x)))\n",
    "        x = self.dropout(F.relu(self.fc2(x)))\n",
    "        x = self.fc3(x)\n",
    "        x = torch.sigmoid(x)\n",
    "        #x = nn.Sigmoid(x)\n",
    "        return x\n",
    "\n",
    "\n",
    "net = Net()"
   ]
  },
  {
   "cell_type": "code",
   "execution_count": 7,
   "metadata": {},
   "outputs": [],
   "source": [
    "import torch.optim as optim\n",
    "\n",
    "criterion = nn.BCELoss()\n",
    "#SGD 옵티마이져 별로임\n",
    "#optimizer = optim.SGD(net.parameters(), lr=0.001, momentum=0.9)\n",
    "optimizer = optim.Adam(net.parameters(), lr=0.001)"
   ]
  },
  {
   "cell_type": "code",
   "execution_count": null,
   "metadata": {},
   "outputs": [
    {
     "name": "stderr",
     "output_type": "stream",
     "text": [
      "/home/mihyun/anaconda3/envs/pytorch/lib/python3.7/site-packages/torch/nn/modules/loss.py:498: UserWarning: Using a target size (torch.Size([4])) that is different to the input size (torch.Size([4, 1])) is deprecated. Please ensure they have the same size.\n",
      "  return F.binary_cross_entropy(input, target, weight=self.weight, reduction=self.reduction)\n"
     ]
    },
    {
     "name": "stdout",
     "output_type": "stream",
     "text": [
      "[1, 2000] loss: 5.364429398468928e-10\n",
      "[1, 4000] loss: 5.896640941500664e-07\n",
      "[1, 6000] loss: 0.0\n",
      "[1, 8000] loss: 0.0\n",
      "[1, 10000] loss: 0.0\n",
      "[1, 12000] loss: 0.0\n",
      "[1, 14000] loss: 0.0\n",
      "[1, 16000] loss: 2.110443892888725e-07\n",
      "[1, 18000] loss: 0.0\n",
      "[1, 20000] loss: 0.0\n",
      "[1, 22000] loss: 0.0\n",
      "[1, 24000] loss: 0.0\n",
      "[1, 26000] loss: 0.0\n",
      "[1, 28000] loss: 0.0\n",
      "[1, 30000] loss: 0.0\n",
      "[1, 32000] loss: 0.0\n",
      "[1, 34000] loss: 0.0\n",
      "[1, 36000] loss: 0.0\n",
      "[1, 38000] loss: 0.0\n",
      "[1, 40000] loss: 0.0\n",
      "[1, 42000] loss: 0.0\n",
      "[1, 44000] loss: 0.0\n",
      "[1, 46000] loss: 0.0\n",
      "[1, 48000] loss: 0.0\n",
      "[1, 50000] loss: 0.0\n",
      "[1, 52000] loss: 0.0\n",
      "[1, 54000] loss: 0.0\n"
     ]
    },
    {
     "name": "stderr",
     "output_type": "stream",
     "text": [
      "/home/mihyun/anaconda3/envs/pytorch/lib/python3.7/site-packages/torch/nn/modules/loss.py:498: UserWarning: Using a target size (torch.Size([2])) that is different to the input size (torch.Size([2, 1])) is deprecated. Please ensure they have the same size.\n",
      "  return F.binary_cross_entropy(input, target, weight=self.weight, reduction=self.reduction)\n"
     ]
    },
    {
     "name": "stdout",
     "output_type": "stream",
     "text": [
      "[2, 2000] loss: 0.0\n",
      "[2, 4000] loss: 0.0\n",
      "[2, 6000] loss: 0.0\n",
      "[2, 8000] loss: 0.0\n",
      "[2, 10000] loss: 0.0\n",
      "[2, 12000] loss: 0.0\n",
      "[2, 14000] loss: 0.0\n",
      "[2, 16000] loss: 0.0\n",
      "[2, 18000] loss: 0.0\n",
      "[2, 20000] loss: 0.0\n",
      "[2, 22000] loss: 0.0\n",
      "[2, 24000] loss: 0.0\n",
      "[2, 26000] loss: 0.0\n",
      "[2, 28000] loss: 0.0\n",
      "[2, 30000] loss: 0.0\n",
      "[2, 32000] loss: 0.0\n",
      "[2, 34000] loss: 0.0\n",
      "[2, 36000] loss: 0.0\n",
      "[2, 38000] loss: 0.0\n",
      "[2, 40000] loss: 0.0\n",
      "[2, 42000] loss: 0.0\n",
      "[2, 44000] loss: 0.0\n",
      "[2, 46000] loss: 0.0\n"
     ]
    }
   ],
   "source": [
    "for epoch in range(2):  # loop over the dataset multiple times\n",
    "\n",
    "    running_loss = 0.0\n",
    "    for i, data in enumerate(trainloader, 0):\n",
    "        # get the inputs\n",
    "        inputs, labels = data\n",
    "\n",
    "        # zero the parameter gradients\n",
    "        optimizer.zero_grad()\n",
    "\n",
    "        # forward + backward + optimize\n",
    "        outputs = net(inputs)\n",
    "        loss = criterion(outputs, labels)\n",
    "        loss.backward()\n",
    "        optimizer.step()\n",
    "        \n",
    "        # print statistics\n",
    "        running_loss += float(loss.item())\n",
    "        if i % 2000 == 1999:    # print every 2000 mini-batches\n",
    "            print('[{}, {}] loss: {}'.format(epoch + 1, i + 1, running_loss/2000))\n",
    "            #너무 작아서 2000나누지 않고 보기\n",
    "            running_loss = 0.0\n",
    "\n",
    "print('Finished Training')"
   ]
  },
  {
   "cell_type": "code",
   "execution_count": null,
   "metadata": {
    "scrolled": true
   },
   "outputs": [],
   "source": [
    "incorrect = 0\n",
    "total = 0\n",
    "print(len(testset))\n",
    "\n",
    "with torch.no_grad():\n",
    "    for data in testloader:\n",
    "        images, labels = data\n",
    "        outputs = net(images)\n",
    "        outputs[outputs > 0.5] = 1\n",
    "        outputs[outputs <= 0.5] = 0\n",
    "        result = abs(labels - outputs)\n",
    "        total += len(outputs)\n",
    "        incorrect += result.sum()\n",
    "        \n",
    "print('Accuracy of the network on the 1999 test data: %d %%' % (\n",
    "    100 * (total - incorrect) / total))"
   ]
  },
  {
   "cell_type": "code",
   "execution_count": null,
   "metadata": {},
   "outputs": [],
   "source": []
  }
 ],
 "metadata": {
  "kernelspec": {
   "display_name": "Python 3",
   "language": "python",
   "name": "python3"
  },
  "language_info": {
   "codemirror_mode": {
    "name": "ipython",
    "version": 3
   },
   "file_extension": ".py",
   "mimetype": "text/x-python",
   "name": "python",
   "nbconvert_exporter": "python",
   "pygments_lexer": "ipython3",
   "version": "3.7.6"
  }
 },
 "nbformat": 4,
 "nbformat_minor": 4
}
